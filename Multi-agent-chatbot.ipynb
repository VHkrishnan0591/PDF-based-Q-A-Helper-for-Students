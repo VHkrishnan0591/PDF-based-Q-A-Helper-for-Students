{
 "cells": [
  {
   "cell_type": "code",
   "execution_count": 1,
   "id": "d6da6553",
   "metadata": {},
   "outputs": [
    {
     "name": "stderr",
     "output_type": "stream",
     "text": [
      "USER_AGENT environment variable not set, consider setting it to identify your requests.\n"
     ]
    }
   ],
   "source": [
    "# All Necessary Libraries\n",
    "\n",
    "import bs4\n",
    "from langchain_community.document_loaders import WebBaseLoader\n",
    "from langchain_text_splitters import RecursiveCharacterTextSplitter\n",
    "from langchain_chroma import Chroma\n",
    "from langchain_community.tools import WikipediaQueryRun\n",
    "from langchain_community.utilities import WikipediaAPIWrapper\n",
    "from langchain_groq import ChatGroq\n",
    "from typing import Annotated\n",
    "from langchain.chat_models import init_chat_model\n",
    "from typing_extensions import TypedDict\n",
    "from langgraph.graph import StateGraph, START, END\n",
    "from langgraph.graph.message import add_messages\n",
    "from typing import List, Literal\n",
    "from typing_extensions import TypedDict\n",
    "from langchain_core.documents import Document\n",
    "from pydantic import BaseModel, Field\n",
    "from langchain_core.prompts import ChatPromptTemplate\n",
    "from langgraph.graph import END, StateGraph, START\n",
    "from langchain_core.output_parsers import StrOutputParser"
   ]
  },
  {
   "cell_type": "code",
   "execution_count": 2,
   "id": "ba94b131",
   "metadata": {},
   "outputs": [
    {
     "name": "stderr",
     "output_type": "stream",
     "text": [
      "Fetching pages: 100%|##########| 1/1 [00:00<00:00,  4.85it/s]\n",
      "Fetching pages: 100%|##########| 1/1 [00:00<00:00,  6.67it/s]\n",
      "Fetching pages: 100%|##########| 1/1 [00:00<00:00,  5.43it/s]"
     ]
    },
    {
     "name": "stdout",
     "output_type": "stream",
     "text": [
      "The length of documents after loading 3\n"
     ]
    },
    {
     "name": "stderr",
     "output_type": "stream",
     "text": [
      "\n"
     ]
    }
   ],
   "source": [
    "# Load the datasource\n",
    "urls = [\n",
    "    \"https://lilianweng.github.io/posts/2023-06-23-agent/\",\n",
    "    \"https://lilianweng.github.io/posts/2023-03-15-prompt-engineering/\",\n",
    "    \"https://lilianweng.github.io/posts/2023-10-25-adv-attack-llm/\",\n",
    "]\n",
    "\n",
    "docs =[]\n",
    "for url in urls:\n",
    "    loader = WebBaseLoader(web_paths=[url])\n",
    "    async for doc in loader.alazy_load():\n",
    "        docs.append(doc)\n",
    "print(\"The length of documents after loading\",len(docs))"
   ]
  },
  {
   "cell_type": "code",
   "execution_count": 3,
   "id": "6e8f9bdb",
   "metadata": {},
   "outputs": [
    {
     "name": "stdout",
     "output_type": "stream",
     "text": [
      "The length of documents after loading 184\n"
     ]
    }
   ],
   "source": [
    "# Split the documents into chunks\n",
    "text_splitter = RecursiveCharacterTextSplitter(\n",
    "    # Set a really small chunk size, just to show.\n",
    "    chunk_size=1000,\n",
    "    chunk_overlap=20,\n",
    "    length_function=len,\n",
    "    is_separator_regex=False,\n",
    ")\n",
    "documents = text_splitter.split_documents(docs)\n",
    "print(\"The length of documents after loading\",len(documents))"
   ]
  },
  {
   "cell_type": "code",
   "execution_count": 4,
   "id": "5a8b9f72",
   "metadata": {},
   "outputs": [
    {
     "name": "stderr",
     "output_type": "stream",
     "text": [
      "d:\\Generative AI\\Langchain\\myenv\\Lib\\site-packages\\tqdm\\auto.py:21: TqdmWarning: IProgress not found. Please update jupyter and ipywidgets. See https://ipywidgets.readthedocs.io/en/stable/user_install.html\n",
      "  from .autonotebook import tqdm as notebook_tqdm\n"
     ]
    },
    {
     "data": {
      "text/plain": [
       "['c6f2cdc7-f1fe-4fbc-8712-d2db651079ce',\n",
       " 'ee6aba6c-4c73-45a2-b6af-ce0b651d522c',\n",
       " 'a7ac3da2-1fe8-4710-973d-e2521ff26c7b',\n",
       " '09a891cb-2554-4847-9ff5-38e22b7ac054',\n",
       " 'b769029c-3a95-4218-8816-abffd041d041',\n",
       " 'aeff8409-e668-4adf-9667-491245af07c9',\n",
       " 'f59fdca0-4668-4e8d-a5b6-52f7e86b19e8',\n",
       " 'b87d11ba-0c1b-4bdb-ad9a-32eb96004bab',\n",
       " '43ac2891-2d83-4933-8f33-d8809bf841d3',\n",
       " '3f8f98c7-30ab-41c2-a55b-a6573a65dd63',\n",
       " '3227effa-27f6-4def-b37d-3d0957cbd786',\n",
       " '344a2d97-f55d-4262-bd2b-c213dcb17284',\n",
       " 'e3ad3bc9-756a-40b9-b5fa-8077cfd9e7c6',\n",
       " 'c1783172-d168-4ab8-af04-10de57d7739b',\n",
       " '8c47a025-82a1-46b3-8701-92b9646acbbe',\n",
       " 'b152aeaf-2250-45bb-8039-24512856a50c',\n",
       " '2198eb4a-d152-47f5-a028-442debd085cc',\n",
       " '916a85fe-4732-469b-880d-b7b84d579c16',\n",
       " 'fdcb8a87-59e3-4010-a70c-fe94fd03d14a',\n",
       " '845e2322-6840-4863-b6dc-a3cfcaebe6e6',\n",
       " '8df6c978-64fc-4d71-8ce7-77d1e23d08e9',\n",
       " '9d0bb497-6f3e-4d53-8d7b-47c2b58ecd32',\n",
       " '2ed7993f-0f31-4ba5-ac46-2a3f9e939629',\n",
       " '1f41b939-c7d4-46b1-9e78-4cf89a1edb2d',\n",
       " 'ac19cb30-f00a-45bb-92fb-ccd5aa557658',\n",
       " '9a897858-e3f8-4cf6-864d-1071de537c73',\n",
       " '0b791db2-b4e1-4b8b-bc64-005ee8257014',\n",
       " '732ae795-c53d-4888-a5d1-1aed369a4950',\n",
       " '8acae218-b330-4a6f-9e62-ccbe679772ba',\n",
       " '5e0aeea9-4326-4b36-8500-83d8423b9d62',\n",
       " '5d349f19-8b56-4e90-987f-6965e0daefb3',\n",
       " '680c83ff-4475-4335-9392-9d7ed8ec514c',\n",
       " '2a1e5020-ee58-4f55-a71b-fa885686aca6',\n",
       " '30c1892f-668a-45c4-9086-c283ac160800',\n",
       " '235e641d-2691-499e-af45-405d14275abc',\n",
       " '7e35e41f-7db6-4fd4-9228-7f53a56caf84',\n",
       " 'f8d3f102-3bb5-47ac-8c0b-78090d729cde',\n",
       " '4f637941-b345-4901-a79b-de3f4d4f5ad0',\n",
       " 'eb493d45-6204-4d17-8cbf-8ff9001be902',\n",
       " '357f302f-b47b-4820-baca-92a544df907b',\n",
       " '1c40940b-8dfa-4741-8f05-ef35eba13a0d',\n",
       " 'c405da49-6a50-43f0-b17c-49c682bb30e5',\n",
       " '919aba94-6e12-41f6-af33-e7260f9ece4e',\n",
       " '5c6abad3-aedf-4daf-aafd-efaef6a9491f',\n",
       " 'b775a5a0-78ed-4d05-98b8-aece1b77b1dd',\n",
       " '17849edd-32e3-4957-bc7b-b092697672dc',\n",
       " '9dcb8449-fea6-42db-9e1d-71998e03ce32',\n",
       " 'a2d29e5e-ecd4-4356-a708-f2033ab868ab',\n",
       " '7ed0514f-2086-483e-adf3-aeb811c93167',\n",
       " 'e04686fb-78d9-42e1-b130-4f740ece76d4',\n",
       " 'cb84b7b3-e254-4cfd-9433-5586a3552f41',\n",
       " 'aab00eab-bd57-423e-9895-fae66ef30abb',\n",
       " '1029da1b-b836-416e-96a7-cc5f84d21173',\n",
       " '89fe4f18-1ec7-4f19-9dae-46849f805f30',\n",
       " '07f2ebe5-3327-400f-9ff8-af2058a45673',\n",
       " '6d2dc28e-31d9-4a1a-b0d5-77bd9ea37113',\n",
       " '91ec441f-f24e-4ebc-a2d3-60862bcc63c1',\n",
       " '1c0aa2cd-f9a5-41be-a207-58056c79b2a2',\n",
       " '943a17b8-8204-4537-8f5a-c79664fdacc4',\n",
       " '6b918e93-b226-44bd-8a5e-5a5e0f70f213',\n",
       " 'b52897bd-56df-4ebb-a660-d84f28a5ed46',\n",
       " '7843f797-794e-4779-982f-352a61e8c709',\n",
       " '5db9ebd6-eaf5-47de-b2b5-701423ca9b43',\n",
       " 'e07ae84e-8faa-4abc-86a7-08ced5c0e316',\n",
       " '11dbdce6-824b-4300-b9ae-7658146b3141',\n",
       " 'b180ee8f-7801-48b2-aa02-7c566702342b',\n",
       " '2708987d-01f8-496a-befc-eade9d540a12',\n",
       " '28264e6e-8896-4a1b-83f4-a1e4e5c86def',\n",
       " 'cd66aba0-953e-4f73-bf59-17e898ffa776',\n",
       " 'dd3f6b5b-e01d-4ad1-821e-914af238f3a4',\n",
       " '68b9f036-b77d-4a86-bdf8-aed1058d9826',\n",
       " 'd01fdaf0-b3c1-4419-876e-8d280edb9ba4',\n",
       " '21cf9bdc-547c-4780-bd0f-80cf91d767b3',\n",
       " '122d8479-4bbf-4ce8-a5c4-5394c0dc8b0c',\n",
       " 'd9a78cd8-89fd-48b0-a06c-5b089be8b24e',\n",
       " '0734385d-ee6d-4a84-8357-98f23a8b85cd',\n",
       " 'a2b82f9d-71ff-4cdd-add0-4a8f84557fba',\n",
       " 'd4864d13-6cbe-411a-a6e1-261b0e9873d8',\n",
       " '845dc99c-d2a6-46c0-98cf-a8fe0da8b280',\n",
       " '0d8fa6ec-800c-472a-a83e-c4a79fe49794',\n",
       " 'c94e350e-3039-49f8-abec-d6430ec84c59',\n",
       " '118a45dc-1289-4de4-bc69-995d28a6341f',\n",
       " 'f6c600e5-ca15-4059-aef6-5f867562846d',\n",
       " '1ef24a3a-eeb1-46f4-b5ae-46d6fa769d89',\n",
       " '168132d8-94e5-4cf5-be2a-cc73353afe38',\n",
       " '5b8ea60c-11bb-4892-9c4b-59759ffd71ca',\n",
       " '16d9ef13-8466-45c2-8a1d-ab36b35d8f56',\n",
       " '86e1f5a0-620f-4e1b-ae1d-d5342e9170c2',\n",
       " 'f408e846-1453-4d94-9502-175a9ececaa2',\n",
       " '216b8874-8996-462c-aa54-bfc2e45e4881',\n",
       " '49f4b12d-e00b-40b9-be15-646a21b4d2e7',\n",
       " '09d23942-6a4b-43fe-b721-2e0858b505ba',\n",
       " '260583ad-f8d0-4ad0-b3d4-e453a3e1076f',\n",
       " '455c28af-81d1-4af6-a837-780a84b8652e',\n",
       " '2c03ef6f-73dd-4773-9568-5f2a984f78fc',\n",
       " '2c6a8d65-fd95-40db-b01e-750f5ecdfee5',\n",
       " '18b7650e-7044-4841-a929-9540f50f2e8d',\n",
       " '396cd97e-b2d4-447b-bd34-ff0fff1ae128',\n",
       " '36566b40-0418-40c1-9199-f65d5a109f71',\n",
       " 'b775d609-a65e-426d-b2a6-645f24893a65',\n",
       " '60cf8a64-46dc-47db-be5f-da879e44f00b',\n",
       " 'd9b80000-8b21-4779-b9ca-743350aacba5',\n",
       " '0f0d0b2e-c218-42b5-b9a8-fcb79b7fff54',\n",
       " '8714eba3-f5e0-4a3e-88d5-83b976d76441',\n",
       " '5f23e718-a936-4e61-99c4-4b08a54da99f',\n",
       " '18d967ea-293f-4db5-9be8-2ba80d07317d',\n",
       " '26d63b1b-6aca-42fd-b519-a11f4eb7aa0c',\n",
       " '06c9cb75-5a3d-4049-940a-0eef2e01923d',\n",
       " 'c4b8238e-10e1-4ce1-9d03-8b8018dfe86d',\n",
       " 'c0449a1f-75fe-4dd1-8277-c37d4b98c643',\n",
       " '1bd0648f-dc9e-4e78-8587-932a33a81adf',\n",
       " '1605b8ab-acb1-42b5-8bf3-ffd929d3975e',\n",
       " 'e6e7700f-6de2-4236-9384-12c071b4d60c',\n",
       " 'a333ece0-0fb6-4f20-8953-e83a86752dbd',\n",
       " '2e7e4634-c5f5-4700-a9df-6f05b4b62c82',\n",
       " 'b014b643-9c6b-4f81-99f8-239c00909555',\n",
       " '3136e5e0-1f31-4a9f-90f2-8f31081bd8f9',\n",
       " 'dd7f8f38-f598-4800-a1af-58371e1270f5',\n",
       " 'dba75fc6-f5d4-402f-914d-c72c76b96b2f',\n",
       " '877d5fc9-66d1-49bf-8574-9a8930613f3c',\n",
       " 'd48ced3c-d105-447b-8900-1a1db8e59229',\n",
       " 'ad6d97f5-d295-46b3-966b-afca3f36dcb1',\n",
       " '58fbe0be-7184-4afc-8c4e-87c79fbdb1ad',\n",
       " '72849bb4-3df3-417f-ad18-5b3e021492ae',\n",
       " 'b21e0960-0369-41a2-9767-90c79bd89360',\n",
       " '5509fc03-b2b9-4e3e-ab9b-8cf4444795e2',\n",
       " 'da83d63a-0dc3-4d0b-a863-f6602015386e',\n",
       " 'e68ed56c-5c34-44e3-bb4b-98811a3c304a',\n",
       " 'd46def99-8162-4e0a-af52-5f0e8c156ea3',\n",
       " 'f04db0c2-faee-430a-81be-36951ec40fb1',\n",
       " '97a6057f-bb31-43cb-8538-b4bb82327046',\n",
       " '57d99dce-2355-40f1-9082-deb745080c8b',\n",
       " '39329ece-4399-4b3f-87f3-f67431b1613c',\n",
       " 'f503c98a-0570-440f-b876-074780813b62',\n",
       " '7e9d1b01-8d90-4eb5-91f3-16c84f7cea2f',\n",
       " '7c3ad186-92c4-4086-8ddd-2d33220d4c71',\n",
       " 'b4fdf72a-1bf6-404a-81af-cacfdd335f33',\n",
       " 'a63b1f62-977a-4a59-a574-856e737de03d',\n",
       " '8837865b-2946-4b98-b9dc-3b80a6656f23',\n",
       " '86a4a20e-c5ed-4f16-be05-bdd84301ad36',\n",
       " 'b8a5372c-1834-4839-b02d-80e5bbe05fe3',\n",
       " '56ba6f5d-da95-43fa-8d42-ccf69bdaf5f8',\n",
       " 'b08d97ae-9db1-4a61-85c3-10697fa6f6db',\n",
       " '69f5da36-6041-46ff-8af7-e7d941245c53',\n",
       " 'ec8ebe1c-578f-45dc-822a-e7f4d2c679be',\n",
       " '2b8f1966-c881-4cff-a3aa-ebc32067942b',\n",
       " '22027fc1-88df-4ea4-b535-24c2bc4ab1f4',\n",
       " 'b9aaea9c-29e7-4939-9a98-747bbb0abb6e',\n",
       " '010d7d6c-b3b3-43f8-9191-0598c4c06c73',\n",
       " '1e7477ec-988b-4ec5-9595-7f29a53032f0',\n",
       " 'be1c26ac-2210-49b9-959c-59bf32c99b7e',\n",
       " 'c15b8a30-9044-47a5-8a5f-3f86631e237c',\n",
       " 'd3cebba7-a3bf-4347-9d36-bb22c7031443',\n",
       " '5c80fe26-dd2c-4e8e-945a-45c59a087434',\n",
       " 'a1b929fd-eb4e-4691-a7e0-b5b25a6c749a',\n",
       " 'cbbd246b-255e-4bce-8985-9bad54c32291',\n",
       " 'b3ba7c86-8890-4eff-b985-5e8667a87eba',\n",
       " 'ca11a567-ce85-432a-9ec0-23f70e22534d',\n",
       " 'dc83c2f3-f360-4ec1-8df1-2133aaa1bd4f',\n",
       " 'f5d1f6d0-0ae3-4e96-b43a-678521b91512',\n",
       " 'e37b0056-e8a6-441b-ad9b-3ae782e07386',\n",
       " 'df146db3-b594-408c-bf59-408cd8dca48e',\n",
       " 'aacce968-1aea-45f0-beb2-c3b193ac729d',\n",
       " '67cab1d0-79f2-4073-b3e2-fdaf81851ff9',\n",
       " '97dd5561-52ab-4a2c-bd55-8d65fe0fe0e6',\n",
       " '779bf5ba-afdb-45a2-b218-ecd58a7c15d9',\n",
       " 'd8eb8900-e57c-44e7-99ce-29d32ef4a0d5',\n",
       " '6283bdde-4651-4c3b-9d4d-170991c2f760',\n",
       " '2df68176-5417-4839-99f3-099eeba4ac84',\n",
       " '59fefda0-c9b5-469f-b81e-ef67c799bf3d',\n",
       " '07d7df23-256f-4479-a7a3-e36563a6b6af',\n",
       " '99941041-5cec-45ab-9467-6f870776256a',\n",
       " '15080405-a72f-4e48-a524-4fe09a04b25e',\n",
       " '35a2b9d5-915f-4b29-9265-cec03fa2c62e',\n",
       " '2ab180ef-04d3-44c3-8158-57079cbb7be4',\n",
       " 'ef72ce22-06c2-45ad-abeb-6eef9747cecb',\n",
       " '7ca23189-5b4d-4022-9921-2ec4a8f92094',\n",
       " '05b4f023-2cdd-43bc-aa49-d2d373b66c65',\n",
       " 'bdcfc121-6c1a-44ad-b99a-3c71d4c1d464',\n",
       " 'f7b2e17e-9f4b-4824-aec6-49cd7246969c',\n",
       " '3ad34c91-472c-441b-b3ba-7a27fbbeea23',\n",
       " '9f6072a3-ae6f-497f-b08d-346f36785e8d',\n",
       " 'c5b72899-5d97-446a-bc54-44cfe33e89b5',\n",
       " 'd6c86e1b-9411-4f6f-8ac3-48a01e17c7e2']"
      ]
     },
     "execution_count": 4,
     "metadata": {},
     "output_type": "execute_result"
    }
   ],
   "source": [
    "# Initate a embedding \n",
    "from langchain_huggingface import HuggingFaceEmbeddings\n",
    "embeddings_model = HuggingFaceEmbeddings(model_name=\"ibm-granite/granite-embedding-125m-english\")\n",
    "# Initate the vector database with the embedding model and pass the documents\n",
    "vector_store = Chroma(\n",
    "    collection_name=\"example_collection\",\n",
    "    embedding_function=embeddings_model,\n",
    "    persist_directory=\"./chroma_db\",  # Where to save data locally, remove if not necessary\n",
    ")\n",
    "vector_store.add_documents(documents=documents)"
   ]
  },
  {
   "cell_type": "code",
   "execution_count": 5,
   "id": "648edf24",
   "metadata": {},
   "outputs": [
    {
     "data": {
      "text/plain": [
       "[Document(id='289eea5c-53ca-41f9-b2c8-553e1e9935a8', metadata={'description': 'Building agents with LLM (large language model) as its core controller is a cool concept. Several proof-of-concepts demos, such as AutoGPT, GPT-Engineer and BabyAGI, serve as inspiring examples. The potentiality of LLM extends beyond generating well-written copies, stories, essays and programs; it can be framed as a powerful general problem solver.\\nAgent System Overview\\nIn a LLM-powered autonomous agent system, LLM functions as the agent’s brain, complemented by several key components:\\n\\nPlanning\\n\\nSubgoal and decomposition: The agent breaks down large tasks into smaller, manageable subgoals, enabling efficient handling of complex tasks.\\nReflection and refinement: The agent can do self-criticism and self-reflection over past actions, learn from mistakes and refine them for future steps, thereby improving the quality of final results.\\n\\n\\nMemory\\n\\nShort-term memory: I would consider all the in-context learning (See Prompt Engineering) as utilizing short-term memory of the model to learn.\\nLong-term memory: This provides the agent with the capability to retain and recall (infinite) information over extended periods, often by leveraging an external vector store and fast retrieval.\\n\\n\\nTool use\\n\\nThe agent learns to call external APIs for extra information that is missing from the model weights (often hard to change after pre-training), including current information, code execution capability, access to proprietary information sources and more.\\n\\n\\n\\n\\nFig. 1. Overview of a LLM-powered autonomous agent system.\\nComponent One: Planning\\nA complicated task usually involves many steps. An agent needs to know what they are and plan ahead.', 'language': 'en', 'source': 'https://lilianweng.github.io/posts/2023-06-23-agent/', 'title': \"LLM Powered Autonomous Agents | Lil'Log\"}, page_content=\"LLM Powered Autonomous Agents | Lil'Log\\n\\n\\n\\n\\n\\n\\n\\n\\n\\n\\n\\n\\n\\n\\n\\n\\n\\n\\n\\n\\n\\n\\n\\n\\n\\n\\n\\n\\n\\n\\n\\n\\n\\n\\n\\n\\n\\n\\n\\nLil'Log\\n\\n\\n\\n\\n\\n\\n\\n\\n\\n\\n\\n\\n\\n\\n\\n\\n\\n|\\n\\n\\n\\n\\n\\n\\nPosts\\n\\n\\n\\n\\nArchive\\n\\n\\n\\n\\nSearch\\n\\n\\n\\n\\nTags\\n\\n\\n\\n\\nFAQ\\n\\n\\n\\n\\n\\n\\n\\n\\n\\n      LLM Powered Autonomous Agents\\n    \\nDate: June 23, 2023  |  Estimated Reading Time: 31 min  |  Author: Lilian Weng\\n\\n\\n \\n\\n\\nTable of Contents\\n\\n\\n\\nAgent System Overview\\n\\nComponent One: Planning\\n\\nTask Decomposition\\n\\nSelf-Reflection\\n\\n\\nComponent Two: Memory\\n\\nTypes of Memory\\n\\nMaximum Inner Product Search (MIPS)\\n\\n\\nComponent Three: Tool Use\\n\\nCase Studies\\n\\nScientific Discovery Agent\\n\\nGenerative Agents Simulation\\n\\nProof-of-Concept Examples\\n\\n\\nChallenges\\n\\nCitation\\n\\nReferences\"),\n",
       " Document(id='c8933d98-83d2-4184-ba8f-050a956c646c', metadata={'description': 'Building agents with LLM (large language model) as its core controller is a cool concept. Several proof-of-concepts demos, such as AutoGPT, GPT-Engineer and BabyAGI, serve as inspiring examples. The potentiality of LLM extends beyond generating well-written copies, stories, essays and programs; it can be framed as a powerful general problem solver.\\nAgent System Overview\\nIn a LLM-powered autonomous agent system, LLM functions as the agent’s brain, complemented by several key components:\\n\\nPlanning\\n\\nSubgoal and decomposition: The agent breaks down large tasks into smaller, manageable subgoals, enabling efficient handling of complex tasks.\\nReflection and refinement: The agent can do self-criticism and self-reflection over past actions, learn from mistakes and refine them for future steps, thereby improving the quality of final results.\\n\\n\\nMemory\\n\\nShort-term memory: I would consider all the in-context learning (See Prompt Engineering) as utilizing short-term memory of the model to learn.\\nLong-term memory: This provides the agent with the capability to retain and recall (infinite) information over extended periods, often by leveraging an external vector store and fast retrieval.\\n\\n\\nTool use\\n\\nThe agent learns to call external APIs for extra information that is missing from the model weights (often hard to change after pre-training), including current information, code execution capability, access to proprietary information sources and more.\\n\\n\\n\\n\\nFig. 1. Overview of a LLM-powered autonomous agent system.\\nComponent One: Planning\\nA complicated task usually involves many steps. An agent needs to know what they are and plan ahead.', 'language': 'en', 'source': 'https://lilianweng.github.io/posts/2023-06-23-agent/', 'title': \"LLM Powered Autonomous Agents | Lil'Log\"}, page_content=\"LLM Powered Autonomous Agents | Lil'Log\\n\\n\\n\\n\\n\\n\\n\\n\\n\\n\\n\\n\\n\\n\\n\\n\\n\\n\\n\\n\\n\\n\\n\\n\\n\\n\\n\\n\\n\\n\\n\\n\\n\\n\\n\\n\\n\\n\\n\\nLil'Log\\n\\n\\n\\n\\n\\n\\n\\n\\n\\n\\n\\n\\n\\n\\n\\n\\n\\n|\\n\\n\\n\\n\\n\\n\\nPosts\\n\\n\\n\\n\\nArchive\\n\\n\\n\\n\\nSearch\\n\\n\\n\\n\\nTags\\n\\n\\n\\n\\nFAQ\\n\\n\\n\\n\\n\\n\\n\\n\\n\\n      LLM Powered Autonomous Agents\\n    \\nDate: June 23, 2023  |  Estimated Reading Time: 31 min  |  Author: Lilian Weng\\n\\n\\n \\n\\n\\nTable of Contents\\n\\n\\n\\nAgent System Overview\\n\\nComponent One: Planning\\n\\nTask Decomposition\\n\\nSelf-Reflection\\n\\n\\nComponent Two: Memory\\n\\nTypes of Memory\\n\\nMaximum Inner Product Search (MIPS)\\n\\n\\nComponent Three: Tool Use\\n\\nCase Studies\\n\\nScientific Discovery Agent\\n\\nGenerative Agents Simulation\\n\\nProof-of-Concept Examples\\n\\n\\nChallenges\\n\\nCitation\\n\\nReferences\"),\n",
       " Document(id='83c3e457-a064-4faf-8f7a-e74938b2a133', metadata={'description': 'Building agents with LLM (large language model) as its core controller is a cool concept. Several proof-of-concepts demos, such as AutoGPT, GPT-Engineer and BabyAGI, serve as inspiring examples. The potentiality of LLM extends beyond generating well-written copies, stories, essays and programs; it can be framed as a powerful general problem solver.\\nAgent System Overview\\nIn a LLM-powered autonomous agent system, LLM functions as the agent’s brain, complemented by several key components:\\n\\nPlanning\\n\\nSubgoal and decomposition: The agent breaks down large tasks into smaller, manageable subgoals, enabling efficient handling of complex tasks.\\nReflection and refinement: The agent can do self-criticism and self-reflection over past actions, learn from mistakes and refine them for future steps, thereby improving the quality of final results.\\n\\n\\nMemory\\n\\nShort-term memory: I would consider all the in-context learning (See Prompt Engineering) as utilizing short-term memory of the model to learn.\\nLong-term memory: This provides the agent with the capability to retain and recall (infinite) information over extended periods, often by leveraging an external vector store and fast retrieval.\\n\\n\\nTool use\\n\\nThe agent learns to call external APIs for extra information that is missing from the model weights (often hard to change after pre-training), including current information, code execution capability, access to proprietary information sources and more.\\n\\n\\n\\n\\nFig. 1. Overview of a LLM-powered autonomous agent system.\\nComponent One: Planning\\nA complicated task usually involves many steps. An agent needs to know what they are and plan ahead.', 'language': 'en', 'source': 'https://lilianweng.github.io/posts/2023-06-23-agent/', 'title': \"LLM Powered Autonomous Agents | Lil'Log\"}, page_content=\"LLM Powered Autonomous Agents | Lil'Log\\n\\n\\n\\n\\n\\n\\n\\n\\n\\n\\n\\n\\n\\n\\n\\n\\n\\n\\n\\n\\n\\n\\n\\n\\n\\n\\n\\n\\n\\n\\n\\n\\n\\n\\n\\n\\n\\n\\n\\nLil'Log\\n\\n\\n\\n\\n\\n\\n\\n\\n\\n\\n\\n\\n\\n\\n\\n\\n\\n|\\n\\n\\n\\n\\n\\n\\nPosts\\n\\n\\n\\n\\nArchive\\n\\n\\n\\n\\nSearch\\n\\n\\n\\n\\nTags\\n\\n\\n\\n\\nFAQ\\n\\n\\n\\n\\n\\n\\n\\n\\n\\n      LLM Powered Autonomous Agents\\n    \\nDate: June 23, 2023  |  Estimated Reading Time: 31 min  |  Author: Lilian Weng\\n\\n\\n \\n\\n\\nTable of Contents\\n\\n\\n\\nAgent System Overview\\n\\nComponent One: Planning\\n\\nTask Decomposition\\n\\nSelf-Reflection\\n\\n\\nComponent Two: Memory\\n\\nTypes of Memory\\n\\nMaximum Inner Product Search (MIPS)\\n\\n\\nComponent Three: Tool Use\\n\\nCase Studies\\n\\nScientific Discovery Agent\\n\\nGenerative Agents Simulation\\n\\nProof-of-Concept Examples\\n\\n\\nChallenges\\n\\nCitation\\n\\nReferences\"),\n",
       " Document(id='c6f2cdc7-f1fe-4fbc-8712-d2db651079ce', metadata={'description': 'Building agents with LLM (large language model) as its core controller is a cool concept. Several proof-of-concepts demos, such as AutoGPT, GPT-Engineer and BabyAGI, serve as inspiring examples. The potentiality of LLM extends beyond generating well-written copies, stories, essays and programs; it can be framed as a powerful general problem solver.\\nAgent System Overview\\nIn a LLM-powered autonomous agent system, LLM functions as the agent’s brain, complemented by several key components:\\n\\nPlanning\\n\\nSubgoal and decomposition: The agent breaks down large tasks into smaller, manageable subgoals, enabling efficient handling of complex tasks.\\nReflection and refinement: The agent can do self-criticism and self-reflection over past actions, learn from mistakes and refine them for future steps, thereby improving the quality of final results.\\n\\n\\nMemory\\n\\nShort-term memory: I would consider all the in-context learning (See Prompt Engineering) as utilizing short-term memory of the model to learn.\\nLong-term memory: This provides the agent with the capability to retain and recall (infinite) information over extended periods, often by leveraging an external vector store and fast retrieval.\\n\\n\\nTool use\\n\\nThe agent learns to call external APIs for extra information that is missing from the model weights (often hard to change after pre-training), including current information, code execution capability, access to proprietary information sources and more.\\n\\n\\n\\n\\nFig. 1. Overview of a LLM-powered autonomous agent system.\\nComponent One: Planning\\nA complicated task usually involves many steps. An agent needs to know what they are and plan ahead.', 'language': 'en', 'source': 'https://lilianweng.github.io/posts/2023-06-23-agent/', 'title': \"LLM Powered Autonomous Agents | Lil'Log\"}, page_content=\"LLM Powered Autonomous Agents | Lil'Log\\n\\n\\n\\n\\n\\n\\n\\n\\n\\n\\n\\n\\n\\n\\n\\n\\n\\n\\n\\n\\n\\n\\n\\n\\n\\n\\n\\n\\n\\n\\n\\n\\n\\n\\n\\n\\n\\n\\n\\nLil'Log\\n\\n\\n\\n\\n\\n\\n\\n\\n\\n\\n\\n\\n\\n\\n\\n\\n\\n|\\n\\n\\n\\n\\n\\n\\nPosts\\n\\n\\n\\n\\nArchive\\n\\n\\n\\n\\nSearch\\n\\n\\n\\n\\nTags\\n\\n\\n\\n\\nFAQ\\n\\n\\n\\n\\n\\n\\n\\n\\n\\n      LLM Powered Autonomous Agents\\n    \\nDate: June 23, 2023  |  Estimated Reading Time: 31 min  |  Author: Lilian Weng\\n\\n\\n \\n\\n\\nTable of Contents\\n\\n\\n\\nAgent System Overview\\n\\nComponent One: Planning\\n\\nTask Decomposition\\n\\nSelf-Reflection\\n\\n\\nComponent Two: Memory\\n\\nTypes of Memory\\n\\nMaximum Inner Product Search (MIPS)\\n\\n\\nComponent Three: Tool Use\\n\\nCase Studies\\n\\nScientific Discovery Agent\\n\\nGenerative Agents Simulation\\n\\nProof-of-Concept Examples\\n\\n\\nChallenges\\n\\nCitation\\n\\nReferences\")]"
      ]
     },
     "execution_count": 5,
     "metadata": {},
     "output_type": "execute_result"
    }
   ],
   "source": [
    "# Initate the retriever\n",
    "retriever = vector_store.as_retriever(search_type = 'similarity',search_kwargs={'k':4})\n",
    "retriever.invoke(\"What is agent\")"
   ]
  },
  {
   "cell_type": "code",
   "execution_count": 6,
   "id": "c4d086c1",
   "metadata": {},
   "outputs": [
    {
     "name": "stdout",
     "output_type": "stream",
     "text": [
      "routing_to='websearch'\n",
      "routing_to='doc_retriever'\n"
     ]
    }
   ],
   "source": [
    "# Working with tools\n",
    "class Router(BaseModel):\n",
    "    routing_to: Literal['websearch','doc_retriever'] = Field(description=\"Given a user question choose to route it to web search or a vectorstore.\")\n",
    "llm = ChatGroq(temperature=0, model_name=\"llama3-8b-8192\")\n",
    "structured_llm_router = llm.with_structured_output(Router)\n",
    "\n",
    "system = \"\"\"You are an expert at routing a user question to either a vectorstore or a web search engine.\n",
    "The vectorstore contains documents on the following topics:\n",
    "- AI agents (including types of agent memory)\n",
    "- Prompt engineering\n",
    "- Adversarial attacks\n",
    "\n",
    "If the user question is about any of these topics, route it to 'doc_retriever'.\n",
    "Otherwise, route it to 'websearch'.\n",
    "\n",
    "Respond with one of: 'websearch' or 'doc_retriever' only.\n",
    "\"\"\"\n",
    "\n",
    "route_prompt = ChatPromptTemplate.from_messages(\n",
    "    [\n",
    "        (\"system\", system),\n",
    "        (\"human\", \"{question}\"),\n",
    "    ]\n",
    ")\n",
    "\n",
    "question_router = route_prompt | structured_llm_router\n",
    "print(\n",
    "    question_router.invoke(\n",
    "        {\"question\": \"who is Sharukh Khan?\"}\n",
    "    )\n",
    ")\n",
    "print(question_router.invoke({\"question\": \"What are the types of agent memory?\"}))"
   ]
  },
  {
   "cell_type": "code",
   "execution_count": 7,
   "id": "d0b5eab3",
   "metadata": {},
   "outputs": [],
   "source": [
    "class State(TypedDict):\n",
    "    question: str\n",
    "    response: str\n",
    "    documents: List[str]"
   ]
  },
  {
   "cell_type": "code",
   "execution_count": null,
   "id": "644f7b2b",
   "metadata": {},
   "outputs": [],
   "source": [
    "def web_search_tool(state:State):\n",
    "    api_wrapper = WikipediaAPIWrapper(top_k_results=1, doc_content_chars_max=100)\n",
    "    wikitool = WikipediaQueryRun(api_wrapper=api_wrapper)\n",
    "    result = wikitool.invoke({'query': state['question']})\n",
    "    documents = Document(page_content = result)\n",
    "    return {'documents':documents,'question':state['question']}"
   ]
  },
  {
   "cell_type": "code",
   "execution_count": null,
   "id": "4b731c35",
   "metadata": {},
   "outputs": [],
   "source": [
    "def retriever(state):\n",
    "    documents = retriever.invoke(state['question'])\n",
    "    return {'documents':documents,'question':state['question']}"
   ]
  },
  {
   "cell_type": "code",
   "execution_count": 16,
   "id": "266dd072",
   "metadata": {},
   "outputs": [],
   "source": [
    "def router(state):\n",
    "    result = question_router.invoke({'question':state['question']})\n",
    "    if result.routing_to == 'websearch':\n",
    "        return 'websearch'\n",
    "    else:\n",
    "        return 'doc_retriever'\n"
   ]
  },
  {
   "cell_type": "code",
   "execution_count": 17,
   "id": "4a91e403",
   "metadata": {},
   "outputs": [],
   "source": [
    "graph_builder = StateGraph(State)\n",
    "graph_builder.add_node('websearch',web_search_tool)\n",
    "graph_builder.add_node('doc_retriever',retriever)\n",
    "graph_builder.add_conditional_edges(START,router,{\"websearch\": \"websearch\", 'doc_retriever': 'doc_retriever'})\n",
    "graph_builder.add_edge( \"doc_retriever\", END)\n",
    "graph_builder.add_edge( \"websearch\", END)\n",
    "# Compile\n",
    "app = graph_builder.compile()"
   ]
  },
  {
   "cell_type": "code",
   "execution_count": 18,
   "id": "f68524a2",
   "metadata": {},
   "outputs": [
    {
     "data": {
      "image/png": "[encoded data removed]",
      "text/plain": [
       "<IPython.core.display.Image object>"
      ]
     },
     "metadata": {},
     "output_type": "display_data"
    }
   ],
   "source": [
    "from IPython.display import Image, display\n",
    "\n",
    "try:\n",
    "    display(Image(app.get_graph().draw_mermaid_png()))\n",
    "except Exception:\n",
    "    # This requires some extra dependencies and is optional\n",
    "    pass"
   ]
  },
  {
   "cell_type": "code",
   "execution_count": 19,
   "id": "0563fb06",
   "metadata": {},
   "outputs": [
    {
     "name": "stdout",
     "output_type": "stream",
     "text": [
      "\"Node 'websearch':\"\n",
      "'\\n---\\n'\n",
      "Document(metadata={}, page_content='Page: Avengers: Endgame\\nSummary: Avengers: Endgame is a 2019 American superhero film based on the Ma')\n"
     ]
    }
   ],
   "source": [
    "from pprint import pprint\n",
    "\n",
    "# Run\n",
    "inputs = {\n",
    "    \"question\": \"Avengers\"\n",
    "}\n",
    "for output in app.stream(inputs):\n",
    "    for key, value in output.items():\n",
    "        # Node\n",
    "        pprint(f\"Node '{key}':\")\n",
    "        # Optional: print full state at each node\n",
    "        # pprint.pprint(value[\"keys\"], indent=2, width=80, depth=None)\n",
    "    pprint(\"\\n---\\n\")\n",
    "\n",
    "# Final generation\n",
    "pprint(value['documents'])"
   ]
  }
 ],
 "metadata": {
  "kernelspec": {
   "display_name": "myenv",
   "language": "python",
   "name": "python3"
  },
  "language_info": {
   "codemirror_mode": {
    "name": "ipython",
    "version": 3
   },
   "file_extension": ".py",
   "mimetype": "text/x-python",
   "name": "python",
   "nbconvert_exporter": "python",
   "pygments_lexer": "ipython3",
   "version": "3.12.2"
  }
 },
 "nbformat": 4,
 "nbformat_minor": 5
}
